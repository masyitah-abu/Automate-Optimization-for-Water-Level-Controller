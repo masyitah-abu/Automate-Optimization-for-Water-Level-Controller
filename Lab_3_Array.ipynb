{
  "nbformat": 4,
  "nbformat_minor": 0,
  "metadata": {
    "colab": {
      "provenance": [],
      "authorship_tag": "ABX9TyOPiq505c3CKo/EnTtftmIp",
      "include_colab_link": true
    },
    "kernelspec": {
      "name": "python3",
      "display_name": "Python 3"
    },
    "language_info": {
      "name": "python"
    }
  },
  "cells": [
    {
      "cell_type": "markdown",
      "metadata": {
        "id": "view-in-github",
        "colab_type": "text"
      },
      "source": [
        "<a href=\"https://colab.research.google.com/github/masyitah-abu/Automate-Optimization-for-Water-Level-Controller/blob/main/Lab_3_Array.ipynb\" target=\"_parent\"><img src=\"https://colab.research.google.com/assets/colab-badge.svg\" alt=\"Open In Colab\"/></a>"
      ]
    },
    {
      "cell_type": "markdown",
      "source": [
        "# **Array Operation**\n",
        "\n"
      ],
      "metadata": {
        "id": "dEi2DXg3qu5x"
      }
    },
    {
      "cell_type": "markdown",
      "source": [
        "**Finding the length of an array**"
      ],
      "metadata": {
        "id": "X6bv6R6R85g8"
      }
    },
    {
      "cell_type": "code",
      "source": [
        "import array as arr\n",
        "\n",
        "number_array=[2,5,62,5,42,52,48,5]\n",
        "print(len(number_array))"
      ],
      "metadata": {
        "colab": {
          "base_uri": "https://localhost:8080/"
        },
        "id": "AUZyjirj9iqz",
        "outputId": "5b324d1d-3b2a-4220-e904-4ab7f02a4fe7"
      },
      "execution_count": null,
      "outputs": [
        {
          "output_type": "stream",
          "name": "stdout",
          "text": [
            "8\n"
          ]
        }
      ]
    },
    {
      "cell_type": "markdown",
      "source": [
        "**Adding/Changing element of an array**"
      ],
      "metadata": {
        "id": "-EpxAqBO9DJb"
      }
    },
    {
      "cell_type": "code",
      "execution_count": null,
      "metadata": {
        "id": "xkpjRxrjkBO4",
        "colab": {
          "base_uri": "https://localhost:8080/"
        },
        "outputId": "52242501-3fdc-4544-b41f-cda37695b8dd"
      },
      "outputs": [
        {
          "output_type": "stream",
          "name": "stdout",
          "text": [
            "array('i', [1, 2, 3])\n",
            "array('i', [4, 5, 6])\n",
            "array('i', [1, 2, 3, 4, 5, 6])\n",
            "array('i', [1, 2, 3, 4])\n",
            "array('i', [10, 1, 2, 3, 4])\n",
            "array('i', [10, 1, 2, 3, 4, 4, 5, 6])\n"
          ]
        }
      ],
      "source": [
        "import array\n",
        " \n",
        "s1 = array.array('i', [1, 2, 3])\n",
        "s2 = array.array('i', [4, 5, 6])\n",
        " \n",
        "print(s1)  \n",
        "print(s2)  \n",
        " \n",
        "s3 = s1 + s2\n",
        "print(s3)  \n",
        " \n",
        "s1.append(4)\n",
        "print(s1)  \n",
        " \n",
        "s1.insert(0, 10)\n",
        "print(s1) \n",
        " \n",
        "s1.extend(s2)\n",
        "print(s1)"
      ]
    },
    {
      "cell_type": "markdown",
      "source": [
        "**Removing/deleting element of an array**"
      ],
      "metadata": {
        "id": "FZ_jiiOn9Dir"
      }
    },
    {
      "cell_type": "code",
      "source": [
        "#remove\n",
        "import array as arr\n",
        "\n",
        "numbers = arr.array('i',[10,11,12,12,13,14])\n",
        "\n",
        "numbers.remove(12)\n",
        "print(numbers)\n",
        "\n",
        "numbers.pop(2)\n",
        "print(numbers)"
      ],
      "metadata": {
        "colab": {
          "base_uri": "https://localhost:8080/"
        },
        "id": "9hxGHhBg-qHj",
        "outputId": "5cd6daaa-186e-48a1-d6a1-8e1bddea3efc"
      },
      "execution_count": null,
      "outputs": [
        {
          "output_type": "stream",
          "name": "stdout",
          "text": [
            "array('i', [10, 11, 12, 13, 14])\n",
            "array('i', [10, 11, 13, 14])\n"
          ]
        }
      ]
    },
    {
      "cell_type": "markdown",
      "source": [
        "**Array convatenation**"
      ],
      "metadata": {
        "id": "BPHCytqQ9Drz"
      }
    },
    {
      "cell_type": "code",
      "source": [
        "import numpy as np\n",
        "\n",
        "#Create NumPy arrays\n",
        "arr = np.array([4, 7, 12])\n",
        "arr1 = np.array([5, 9, 15])\n",
        "\n",
        "# Use concatenate() to join two arrays\n",
        "con = np.concatenate((arr, arr1))\n",
        "print(con)"
      ],
      "metadata": {
        "colab": {
          "base_uri": "https://localhost:8080/"
        },
        "id": "5Mkc__hNF7uj",
        "outputId": "48b2db8a-e036-4cd3-efc5-30d9df94815f"
      },
      "execution_count": null,
      "outputs": [
        {
          "output_type": "stream",
          "name": "stdout",
          "text": [
            "[ 4  7 12  5  9 15]\n"
          ]
        }
      ]
    },
    {
      "cell_type": "markdown",
      "source": [
        "**Looping through an array**"
      ],
      "metadata": {
        "id": "ZJW0r8SG9D7z"
      }
    },
    {
      "cell_type": "code",
      "source": [
        "from array import *\n",
        "\n",
        "number_list=[2,5,62,5,42,52,48,5]\n",
        "a = array('i', number_list)\n",
        "\n",
        "for x in a:\n",
        "  print(x)"
      ],
      "metadata": {
        "colab": {
          "base_uri": "https://localhost:8080/"
        },
        "id": "dQS9C9iK-zZs",
        "outputId": "0de5fad5-76db-47cc-d49f-a88faaeca930"
      },
      "execution_count": null,
      "outputs": [
        {
          "output_type": "stream",
          "name": "stdout",
          "text": [
            "2\n",
            "5\n",
            "62\n",
            "5\n",
            "42\n",
            "52\n",
            "48\n",
            "5\n"
          ]
        }
      ]
    },
    {
      "cell_type": "markdown",
      "source": [
        "**Slicing**"
      ],
      "metadata": {
        "id": "m5qwatSs9Dzz"
      }
    },
    {
      "cell_type": "code",
      "source": [
        "import array as arr\n",
        "\n",
        "number_array=[2,5,62,5,42,52,48,5]\n",
        "\n",
        "print(number_array[2:5])\n",
        "print(number_array[:-5])\n",
        "print(number_array[5:])\n",
        "print(number_array[:])"
      ],
      "metadata": {
        "colab": {
          "base_uri": "https://localhost:8080/"
        },
        "id": "x1065FhA-tyM",
        "outputId": "3ba0e126-4558-463c-bf8e-3455c0498f8b"
      },
      "execution_count": null,
      "outputs": [
        {
          "output_type": "stream",
          "name": "stdout",
          "text": [
            "[62, 5, 42]\n",
            "[2, 5, 62]\n",
            "[52, 48, 5]\n",
            "[2, 5, 62, 5, 42, 52, 48, 5]\n"
          ]
        }
      ]
    },
    {
      "cell_type": "markdown",
      "source": [
        "**Application**\n",
        "\n",
        "Storing high score game\n",
        "\n",
        "From the program below insert below program by:\n",
        "1. Finding the length of an array\n",
        "2. Adding/Changing player and score of an array\n",
        "3. Removing/deleting player and score of an array\n",
        "4. Looping through an array by display the array after add and remove"
      ],
      "metadata": {
        "id": "WSu8S0AS2d7n"
      }
    },
    {
      "cell_type": "code",
      "source": [
        "# function for the array data structure\n",
        "\n",
        "class GameEntry:\n",
        " def __init__(self, name, score):\n",
        "    self._name = name #utk masukkan nama player\n",
        "    self._score = score #utk masukkan score player\n",
        " def get_name(self):\n",
        "  return self._name #dapatkan nama yg dimasukkan\n",
        " def get_score(self):\n",
        "  return self._score #dapatkan nilai score yg dimasukkan\n",
        " def __str__(self):\n",
        "  return ('({0}, {1})'.format(self._name, self._score)) #untuk display nama & score yg 0,1 tu adalah indexing e.g., (Bob, 98)\n",
        "\n",
        "class Scoreboard():\n",
        " def __init__(self, capacity=10):\n",
        "\n",
        "  self._board = [None]*capacity # reserve space for future scores\n",
        "  self._n=0 # number of actual entries\n",
        "\n",
        " def __getitem__(self, k):\n",
        "\n",
        "  return self._board[k] #get the item that store in the space\n",
        "\n",
        " def add(self, entry):\n",
        "\n",
        "  score = entry.get_score() #get the score in the space\n",
        "\n",
        "  #compare score2 tu dgn condition kat bwh ni\n",
        "\n",
        "  if self._n < len(self._board) or score > self._board[-1].get_score(): # what is it \" self._board[-1].get_score()\"\n",
        "    if self._n < len(self._board): # no score drops from list\n",
        "      self._n += 1 # so overall number increases\n",
        "\n",
        "    j = self._n - 1\n",
        "    while j > 0 and self._board[j-1].get_score( ) < score:\n",
        "     self._board[j] = self._board[j-1] # shift entry from j-1 to j\n",
        "     j -= 1 # and decrement j\n",
        "    self._board[j] = entry\n",
        " def __str__(self):\n",
        "\n",
        "  return '\\n' .join(str(self._board[j]) for j in range(self._n)) #display\n",
        "\n",
        "#main code\n",
        "S = Scoreboard()\n",
        "S.add(GameEntry('Mike',1105))    \n",
        "S.add(GameEntry('Rob',750))    \n",
        "S.add(GameEntry('Paul',720))    \n",
        "S.add(GameEntry('Anna',660))    \n",
        "S.add(GameEntry('Rose',590))    \n",
        "S.add(GameEntry('Jack',510))\n",
        "\n",
        "print('Entry scoreboard:\\n',S)\n",
        "\n",
        "S.add(GameEntry('Jill',740))\n",
        "\n",
        "print('Entry scoreboard:\\n',S)"
      ],
      "metadata": {
        "id": "gKMMq1ot2pDY",
        "colab": {
          "base_uri": "https://localhost:8080/"
        },
        "outputId": "95f49a18-b73f-41fa-a0c0-a4a4bd78fcd4"
      },
      "execution_count": null,
      "outputs": [
        {
          "output_type": "stream",
          "name": "stdout",
          "text": [
            "Entry scoreboard:\n",
            " (Mike, 1105)\n",
            "(Rob, 750)\n",
            "(Paul, 720)\n",
            "(Anna, 660)\n",
            "(Rose, 590)\n",
            "(Jack, 510)\n",
            "Entry scoreboard:\n",
            " (Mike, 1105)\n",
            "(Rob, 750)\n",
            "(Jill, 740)\n",
            "(Paul, 720)\n",
            "(Anna, 660)\n",
            "(Rose, 590)\n",
            "(Jack, 510)\n"
          ]
        }
      ]
    }
  ]
}